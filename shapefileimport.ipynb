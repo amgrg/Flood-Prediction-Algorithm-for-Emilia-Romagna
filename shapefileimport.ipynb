{
 "cells": [
  {
   "cell_type": "code",
   "execution_count": 1,
   "metadata": {},
   "outputs": [
    {
     "name": "stdout",
     "output_type": "stream",
     "text": [
      "                     CODICE  APPOSI             NOME  FUNZI         D_FUNZI  \\\n",
      "0                        97  CANALE       CUORMAGGIO   97.0  Non conosciuto   \n",
      "1                        97  CANALE           MACERI   97.0  Non conosciuto   \n",
      "2                        97  CANALE  TOMBA A LEVANTE   97.0  Non conosciuto   \n",
      "3  441301                02   SCOLO             PILA   97.0  Non conosciuto   \n",
      "4  44130109              01   SCOLO        COCORETTO   97.0  Non conosciuto   \n",
      "\n",
      "   SENSO         D_SENSO  LARGH TY_E                                  ID_E  \\\n",
      "0   97.0  Non conosciuto   97.0  CAN  279a20c9-8fd1-4c33-aa57-3347f3aa3059   \n",
      "1   97.0  Non conosciuto   97.0  CAN  bbedc914-e0d6-4ce6-a56a-df4555bce5d6   \n",
      "2   97.0  Non conosciuto   97.0  CAN  46301c13-ec5f-4a27-9a28-368859f64dc4   \n",
      "3   97.0  Non conosciuto   97.0  CAN  3a28db35-a174-4eee-8e2a-155f5441a58a   \n",
      "4   97.0  Non conosciuto   97.0  CAN  85a48682-5399-4e9f-811c-4ae52e856a83   \n",
      "\n",
      "   ... METODO           D_METODO COMP_FONTI SEZ_ID_E TIPO_FONTE    DATA_DA  \\\n",
      "0  ...    1.0  Primo caricamento         00     None    CGU2003 2003-01-01   \n",
      "1  ...    1.0  Primo caricamento         00     None    CGU2003 2003-01-01   \n",
      "2  ...    1.0  Primo caricamento         00     None    CGU2003 2003-01-01   \n",
      "3  ...    1.0  Primo caricamento         00     None    CGU2003 2003-01-01   \n",
      "4  ...    1.0  Primo caricamento         00     None    CGU2003 2003-01-01   \n",
      "\n",
      "      DATA_A  region flood_prev_measure  \\\n",
      "0 2003-12-31    None               None   \n",
      "1 2003-12-31    None               None   \n",
      "2 2003-12-31    None               None   \n",
      "3 2003-12-31    None               None   \n",
      "4 2003-12-31    None               None   \n",
      "\n",
      "                                            geometry  \n",
      "0  LINESTRING (730583.245 4938714.959, 730661.352...  \n",
      "1  MULTILINESTRING ((732300.082 4919169.351, 7323...  \n",
      "2  MULTILINESTRING ((732049.087 4925674.938, 7321...  \n",
      "3  MULTILINESTRING ((732892.132 4918534.403, 7329...  \n",
      "4  LINESTRING (733197.995 4927146.306, 733220.641...  \n",
      "\n",
      "[5 rows x 27 columns]\n"
     ]
    }
   ],
   "source": [
    "import geopandas as gpd\n",
    "import pandas as pd\n",
    "from shapely.geometry import Polygon\n",
    "\n",
    "# Load the existing shapefile\n",
    "existing_shapefile = gpd.read_file(r\"C:\\Users\\amixg\\Downloads\\dati_dbtr\")\n",
    "\n",
    "# Create a new GeoDataFrame for Emilia-Romagna\n",
    "emilia_romagna_data = gpd.GeoDataFrame(\n",
    "    {\n",
    "        \"region\": [\"Emilia-Romagna\"],\n",
    "        \"flood_prev_measure\": [\"Describe the measure here\"],\n",
    "        \"geometry\": [Polygon([(9.20, 43.75), (12.75, 43.75), (12.75, 45.15), (9.20, 45.15)])]\n",
    "    }\n",
    ")\n",
    "\n",
    "# Ensure the CRS matches your existing shapefile\n",
    "emilia_romagna_data.set_crs(existing_shapefile.crs, inplace=True)\n",
    "\n",
    "# Concatenate the new data to the existing shapefile\n",
    "updated_shapefile = gpd.GeoDataFrame(pd.concat([existing_shapefile, emilia_romagna_data], ignore_index=True))\n",
    "\n",
    "# Save the updated data as a GeoPackage\n",
    "updated_shapefile.to_file(r\"C:\\Users\\amixg\\Downloads\\updated_data.gpkg\", driver=\"GPKG\")\n",
    "\n",
    "\n",
    "# Replace with the path to your .gpkg file\n",
    "gdf = gpd.read_file(\"C:/Users/amixg/Downloads/updated_data.gpkg\")\n",
    "\n",
    "# Now you can work with the data in the GeoDataFrame\n",
    "print(gdf.head())"
   ]
  }
 ],
 "metadata": {
  "kernelspec": {
   "display_name": "Python 3",
   "language": "python",
   "name": "python3"
  },
  "language_info": {
   "codemirror_mode": {
    "name": "ipython",
    "version": 3
   },
   "file_extension": ".py",
   "mimetype": "text/x-python",
   "name": "python",
   "nbconvert_exporter": "python",
   "pygments_lexer": "ipython3",
   "version": "3.12.6"
  }
 },
 "nbformat": 4,
 "nbformat_minor": 2
}
